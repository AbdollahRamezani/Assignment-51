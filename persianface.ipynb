{
  "cells": [
    {
      "cell_type": "code",
      "execution_count": 1,
      "metadata": {
        "colab": {
          "base_uri": "https://localhost:8080/"
        },
        "id": "MIkL0E430aJD",
        "outputId": "8312b305-c840-4ffe-9184-355df6c1c541"
      },
      "outputs": [
        {
          "name": "stdout",
          "output_type": "stream",
          "text": [
            "Directory  C:\\Users\\Mashadservice.ir /.deepface created\n",
            "Directory  C:\\Users\\Mashadservice.ir /.deepface/weights created\n"
          ]
        }
      ],
      "source": [
        "import os\n",
        "from deepface import DeepFace"
      ]
    },
    {
      "cell_type": "code",
      "execution_count": 2,
      "metadata": {
        "colab": {
          "base_uri": "https://localhost:8080/",
          "height": 498
        },
        "id": "ty44G68j04lg",
        "outputId": "96a20446-b56c-4a3c-9ed9-e19ae58b53ae"
      },
      "outputs": [
        {
          "name": "stdout",
          "output_type": "stream",
          "text": [
            "arcface_weights.h5  will be downloaded to  C:\\Users\\Mashadservice.ir/.deepface/weights/arcface_weights.h5\n"
          ]
        },
        {
          "name": "stderr",
          "output_type": "stream",
          "text": [
            "Downloading...\n",
            "From: https://github.com/serengil/deepface_models/releases/download/v1.0/arcface_weights.h5\n",
            "To: C:\\Users\\Mashadservice.ir\\.deepface\\weights\\arcface_weights.h5\n",
            "100%|██████████| 137M/137M [03:03<00:00, 747kB/s]  \n"
          ]
        },
        {
          "ename": "AttributeError",
          "evalue": "'NoneType' object has no attribute 'shape'",
          "output_type": "error",
          "traceback": [
            "\u001b[1;31m---------------------------------------------------------------------------\u001b[0m",
            "\u001b[1;31mAttributeError\u001b[0m                            Traceback (most recent call last)",
            "\u001b[1;32md:\\Python\\Assignment\\Deep Learning\\Assignment 51\\persianface.ipynb Cell 2\u001b[0m line \u001b[0;36m7\n\u001b[0;32m      <a href='vscode-notebook-cell:/d%3A/Python/Assignment/Deep%20Learning/Assignment%2051/persianface.ipynb#W1sZmlsZQ%3D%3D?line=4'>5</a>\u001b[0m list_file_in_folder \u001b[39m=\u001b[39m os\u001b[39m.\u001b[39mlistdir(new_path_folder)\n\u001b[0;32m      <a href='vscode-notebook-cell:/d%3A/Python/Assignment/Deep%20Learning/Assignment%2051/persianface.ipynb#W1sZmlsZQ%3D%3D?line=5'>6</a>\u001b[0m \u001b[39mfor\u001b[39;00m i \u001b[39min\u001b[39;00m list_file_in_folder:\n\u001b[1;32m----> <a href='vscode-notebook-cell:/d%3A/Python/Assignment/Deep%20Learning/Assignment%2051/persianface.ipynb#W1sZmlsZQ%3D%3D?line=6'>7</a>\u001b[0m   embedding_objs \u001b[39m=\u001b[39m DeepFace\u001b[39m.\u001b[39;49mrepresent(img_path \u001b[39m=\u001b[39;49m os\u001b[39m.\u001b[39;49mpath\u001b[39m.\u001b[39;49mjoin(new_path_folder, i), model_name \u001b[39m=\u001b[39;49m \u001b[39m\"\u001b[39;49m\u001b[39mArcFace\u001b[39;49m\u001b[39m\"\u001b[39;49m, enforce_detection \u001b[39m=\u001b[39;49m \u001b[39mFalse\u001b[39;49;00m)\n\u001b[0;32m      <a href='vscode-notebook-cell:/d%3A/Python/Assignment/Deep%20Learning/Assignment%2051/persianface.ipynb#W1sZmlsZQ%3D%3D?line=7'>8</a>\u001b[0m   df\u001b[39m.\u001b[39mappend(embedding_objs)\n",
            "File \u001b[1;32mc:\\Users\\Mashadservice.ir\\AppData\\Local\\Programs\\Python\\Python310\\lib\\site-packages\\deepface\\DeepFace.py:645\u001b[0m, in \u001b[0;36mrepresent\u001b[1;34m(img_path, model_name, enforce_detection, detector_backend, align, normalization)\u001b[0m\n\u001b[0;32m    643\u001b[0m target_size \u001b[39m=\u001b[39m functions\u001b[39m.\u001b[39mfind_target_size(model_name\u001b[39m=\u001b[39mmodel_name)\n\u001b[0;32m    644\u001b[0m \u001b[39mif\u001b[39;00m detector_backend \u001b[39m!=\u001b[39m \u001b[39m\"\u001b[39m\u001b[39mskip\u001b[39m\u001b[39m\"\u001b[39m:\n\u001b[1;32m--> 645\u001b[0m     img_objs \u001b[39m=\u001b[39m functions\u001b[39m.\u001b[39;49mextract_faces(\n\u001b[0;32m    646\u001b[0m         img\u001b[39m=\u001b[39;49mimg_path,\n\u001b[0;32m    647\u001b[0m         target_size\u001b[39m=\u001b[39;49mtarget_size,\n\u001b[0;32m    648\u001b[0m         detector_backend\u001b[39m=\u001b[39;49mdetector_backend,\n\u001b[0;32m    649\u001b[0m         grayscale\u001b[39m=\u001b[39;49m\u001b[39mFalse\u001b[39;49;00m,\n\u001b[0;32m    650\u001b[0m         enforce_detection\u001b[39m=\u001b[39;49menforce_detection,\n\u001b[0;32m    651\u001b[0m         align\u001b[39m=\u001b[39;49malign,\n\u001b[0;32m    652\u001b[0m     )\n\u001b[0;32m    653\u001b[0m \u001b[39melse\u001b[39;00m:  \u001b[39m# skip\u001b[39;00m\n\u001b[0;32m    654\u001b[0m     \u001b[39mif\u001b[39;00m \u001b[39misinstance\u001b[39m(img_path, \u001b[39mstr\u001b[39m):\n",
            "File \u001b[1;32mc:\\Users\\Mashadservice.ir\\AppData\\Local\\Programs\\Python\\Python310\\lib\\site-packages\\deepface\\commons\\functions.py:105\u001b[0m, in \u001b[0;36mextract_faces\u001b[1;34m(img, target_size, detector_backend, grayscale, enforce_detection, align)\u001b[0m\n\u001b[0;32m    103\u001b[0m \u001b[39m# img might be path, base64 or numpy array. Convert it to numpy whatever it is.\u001b[39;00m\n\u001b[0;32m    104\u001b[0m img \u001b[39m=\u001b[39m load_image(img)\n\u001b[1;32m--> 105\u001b[0m img_region \u001b[39m=\u001b[39m [\u001b[39m0\u001b[39m, \u001b[39m0\u001b[39m, img\u001b[39m.\u001b[39;49mshape[\u001b[39m1\u001b[39m], img\u001b[39m.\u001b[39mshape[\u001b[39m0\u001b[39m]]\n\u001b[0;32m    107\u001b[0m \u001b[39mif\u001b[39;00m detector_backend \u001b[39m==\u001b[39m \u001b[39m\"\u001b[39m\u001b[39mskip\u001b[39m\u001b[39m\"\u001b[39m:\n\u001b[0;32m    108\u001b[0m     face_objs \u001b[39m=\u001b[39m [(img, img_region, \u001b[39m0\u001b[39m)]\n",
            "\u001b[1;31mAttributeError\u001b[0m: 'NoneType' object has no attribute 'shape'"
          ]
        }
      ],
      "source": [
        "persianface_path = \"PersianFace\"\n",
        "df = []\n",
        "for folder in os.listdir(persianface_path):\n",
        "  new_path_folder = os.path.join(persianface_path, folder)\n",
        "  list_file_in_folder = os.listdir(new_path_folder)\n",
        "  for i in list_file_in_folder:\n",
        "    embedding_objs = DeepFace.represent(img_path = os.path.join(new_path_folder, i), model_name = \"ArcFace\", enforce_detection = False)\n",
        "    df.append(embedding_objs)\n"
      ]
    },
    {
      "cell_type": "code",
      "execution_count": 3,
      "metadata": {
        "id": "dhZR11nZRrPg"
      },
      "outputs": [],
      "source": [
        "import pandas as pd\n",
        "df= pd.DataFrame(df)\n",
        "df.to_csv('PersianFace.csv', index=False)\n"
      ]
    }
  ],
  "metadata": {
    "accelerator": "GPU",
    "colab": {
      "gpuType": "T4",
      "provenance": []
    },
    "kernelspec": {
      "display_name": "Python 3",
      "name": "python3"
    },
    "language_info": {
      "codemirror_mode": {
        "name": "ipython",
        "version": 3
      },
      "file_extension": ".py",
      "mimetype": "text/x-python",
      "name": "python",
      "nbconvert_exporter": "python",
      "pygments_lexer": "ipython3",
      "version": "3.10.8"
    }
  },
  "nbformat": 4,
  "nbformat_minor": 0
}
